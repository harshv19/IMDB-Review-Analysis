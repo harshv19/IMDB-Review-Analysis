{
 "cells": [
  {
   "cell_type": "code",
   "execution_count": 46,
   "metadata": {},
   "outputs": [],
   "source": [
    "import numpy as np\n",
    "import pandas as pd\n",
    "import os\n",
    "from keras.preprocessing import sequence\n",
    "from keras.preprocessing.text import Tokenizer\n",
    "from keras import layers\n",
    "from keras.layers import Dense ,Dropout\n",
    "from keras.models import Sequential\n",
    "from keras.layers import Embedding ,SimpleRNN,LSTM\n",
    "import matplotlib.pyplot as plt\n",
    "from keras.utils import to_categorical"
   ]
  },
  {
   "cell_type": "code",
   "execution_count": 47,
   "metadata": {},
   "outputs": [],
   "source": [
    "data = pd.read_csv('IMDB Dataset.csv')"
   ]
  },
  {
   "cell_type": "code",
   "execution_count": 48,
   "metadata": {},
   "outputs": [],
   "source": [
    "data['sentiment']=data['sentiment'].replace(to_replace=['positive','negative'],value=[1,0])"
   ]
  },
  {
   "cell_type": "code",
   "execution_count": 49,
   "metadata": {},
   "outputs": [],
   "source": [
    "x_train = data.iloc[0:37500,0]\n",
    "y_train = np.asarray(data.iloc[0:37500,1])\n",
    "\n",
    "x_test = data.iloc[37500:,0]\n",
    "y_test = np.asarray(data.iloc[37500:,1])"
   ]
  },
  {
   "cell_type": "code",
   "execution_count": 50,
   "metadata": {},
   "outputs": [],
   "source": [
    "max_feature = 10000\n",
    "maxlen = 300\n",
    "batch_size = 32\n",
    "time_steps_to_unroll=300"
   ]
  },
  {
   "cell_type": "code",
   "execution_count": 51,
   "metadata": {},
   "outputs": [],
   "source": [
    "tokenizer = Tokenizer(num_words=max_feature)"
   ]
  },
  {
   "cell_type": "code",
   "execution_count": 52,
   "metadata": {},
   "outputs": [],
   "source": [
    "tokenizer.fit_on_texts(x_train)  #Builds the word index\n",
    "#Turns strings into lists of integer indices\n",
    "train_sequences = tokenizer.texts_to_sequences(x_train)\n",
    "train_word_index = tokenizer.word_index"
   ]
  },
  {
   "cell_type": "code",
   "execution_count": 53,
   "metadata": {},
   "outputs": [],
   "source": [
    "'''Transforming Training data which is in text into a sequence of integer. '''\n",
    "tokenizer.fit_on_texts(x_test)  #Builds the word index\n",
    "#Turns strings into lists of integer indices\n",
    "test_sequences = tokenizer.texts_to_sequences(x_test)\n",
    "test_word_index = tokenizer.word_index #Return word index for each word"
   ]
  },
  {
   "cell_type": "code",
   "execution_count": 54,
   "metadata": {},
   "outputs": [],
   "source": [
    "'''This function transforms a list of sequences (lists of integers) \n",
    "into a 2D Numpy array.'''\n",
    "x_train = sequence.pad_sequences(train_sequences,maxlen=maxlen)\n",
    "x_test = sequence.pad_sequences(test_sequences,maxlen=maxlen)"
   ]
  },
  {
   "cell_type": "code",
   "execution_count": 55,
   "metadata": {},
   "outputs": [],
   "source": [
    "glove_dir = 'C:/Users/A-Team/Desktop/Datasets/IMDB'\n",
    "\n",
    "embedding_index = {}\n",
    "f=open(os.path.join(glove_dir,'glove.6B.300d.txt'),encoding='utf8')\n",
    "for line in f:\n",
    "    values = line.split()\n",
    "    word = values[0]\n",
    "    coefs = np.asarray(values[1:],dtype='float32')\n",
    "    embedding_index[word] = coefs\n",
    "f.close()"
   ]
  },
  {
   "cell_type": "code",
   "execution_count": 56,
   "metadata": {},
   "outputs": [],
   "source": [
    "#Training data embedding matrix\n",
    "embedding_dim=300\n",
    "embedding_matrix_train = np.zeros((max_feature,embedding_dim))\n",
    "for word, i in train_word_index.items():\n",
    "    if i<max_feature:\n",
    "        embedding_vector_train = embedding_index.get(word)\n",
    "        if embedding_vector_train is not None:\n",
    "            embedding_matrix_train[i] = embedding_vector_train"
   ]
  },
  {
   "cell_type": "code",
   "execution_count": 38,
   "metadata": {},
   "outputs": [],
   "source": []
  },
  {
   "cell_type": "code",
   "execution_count": 39,
   "metadata": {},
   "outputs": [
    {
     "data": {
      "text/plain": [
       "array([0., 1.], dtype=float32)"
      ]
     },
     "execution_count": 39,
     "metadata": {},
     "output_type": "execute_result"
    }
   ],
   "source": []
  },
  {
   "cell_type": "code",
   "execution_count": 61,
   "metadata": {},
   "outputs": [
    {
     "name": "stdout",
     "output_type": "stream",
     "text": [
      "Train on 10000 samples, validate on 2500 samples\n",
      "Epoch 1/20\n",
      "10000/10000 [==============================] - 254s 25ms/step - loss: 0.6845 - acc: 0.5530 - val_loss: 0.7310 - val_acc: 0.5248\n",
      "Epoch 2/20\n",
      "10000/10000 [==============================] - 216s 22ms/step - loss: 0.6610 - acc: 0.5973 - val_loss: 0.6610 - val_acc: 0.6028\n",
      "Epoch 3/20\n",
      "10000/10000 [==============================] - 212s 21ms/step - loss: 0.6458 - acc: 0.6339 - val_loss: 0.7168 - val_acc: 0.5492\n",
      "Epoch 4/20\n",
      "10000/10000 [==============================] - 208s 21ms/step - loss: 0.6461 - acc: 0.6236 - val_loss: 0.6394 - val_acc: 0.6204\n",
      "Epoch 5/20\n",
      "10000/10000 [==============================] - 207s 21ms/step - loss: 0.6181 - acc: 0.6574 - val_loss: 0.6302 - val_acc: 0.6336\n",
      "Epoch 6/20\n",
      "10000/10000 [==============================] - 209s 21ms/step - loss: 0.5923 - acc: 0.6832 - val_loss: 0.6226 - val_acc: 0.6444\n",
      "Epoch 7/20\n",
      "10000/10000 [==============================] - 207s 21ms/step - loss: 0.5668 - acc: 0.7091 - val_loss: 0.5650 - val_acc: 0.6924\n",
      "Epoch 8/20\n",
      "10000/10000 [==============================] - 210s 21ms/step - loss: 0.5203 - acc: 0.7394 - val_loss: 0.5321 - val_acc: 0.7156\n",
      "Epoch 9/20\n",
      "10000/10000 [==============================] - 292s 29ms/step - loss: 0.5064 - acc: 0.7525 - val_loss: 0.5380 - val_acc: 0.7152\n",
      "Epoch 10/20\n",
      "10000/10000 [==============================] - 214s 21ms/step - loss: 0.4510 - acc: 0.7857 - val_loss: 0.5045 - val_acc: 0.7448\n",
      "Epoch 11/20\n",
      "10000/10000 [==============================] - 203s 20ms/step - loss: 0.4333 - acc: 0.7989 - val_loss: 0.4920 - val_acc: 0.7700\n",
      "Epoch 12/20\n",
      "10000/10000 [==============================] - 199s 20ms/step - loss: 0.4105 - acc: 0.8130 - val_loss: 0.5378 - val_acc: 0.7212\n",
      "Epoch 13/20\n",
      "10000/10000 [==============================] - 199s 20ms/step - loss: 0.3735 - acc: 0.8299 - val_loss: 0.4841 - val_acc: 0.7612\n",
      "Epoch 14/20\n",
      "10000/10000 [==============================] - 198s 20ms/step - loss: 0.3524 - acc: 0.8411 - val_loss: 0.5111 - val_acc: 0.7424\n",
      "Epoch 15/20\n",
      "10000/10000 [==============================] - 199s 20ms/step - loss: 0.3206 - acc: 0.8616 - val_loss: 0.5553 - val_acc: 0.7524\n",
      "Epoch 16/20\n",
      "10000/10000 [==============================] - 199s 20ms/step - loss: 0.2744 - acc: 0.8861 - val_loss: 0.7512 - val_acc: 0.7172\n",
      "Epoch 17/20\n",
      "10000/10000 [==============================] - 198s 20ms/step - loss: 0.2761 - acc: 0.8845 - val_loss: 0.5327 - val_acc: 0.7736\n",
      "Epoch 18/20\n",
      "10000/10000 [==============================] - 197s 20ms/step - loss: 0.2139 - acc: 0.9135 - val_loss: 0.5835 - val_acc: 0.7784\n",
      "Epoch 19/20\n",
      "10000/10000 [==============================] - 724s 72ms/step - loss: 0.1457 - acc: 0.9456 - val_loss: 0.6613 - val_acc: 0.7532\n",
      "Epoch 20/20\n",
      "10000/10000 [==============================] - 206s 21ms/step - loss: 0.1773 - acc: 0.9299 - val_loss: 0.6553 - val_acc: 0.7548\n"
     ]
    }
   ],
   "source": [
    "model = Sequential()\n",
    "model.add(Embedding(max_feature,embedding_dim,input_length=time_steps_to_unroll,weights=[embedding_matrix_train]))\n",
    "model.add(LSTM(embedding_dim))\n",
    "model.add(Dropout(0.5))\n",
    "model.add(layers.Dense(units = 1,activation = 'sigmoid'))\n",
    "\n",
    "model.layers[0].trainable = False\n",
    "model.compile(optimizer = 'adam',loss = 'binary_crossentropy',metrics = ['acc'])\n",
    "history = model.fit(x_test,y_test,epochs = 20,batch_size = 256,validation_split = 0.2)\n",
    "model.save('model.h5')"
   ]
  },
  {
   "cell_type": "code",
   "execution_count": 62,
   "metadata": {},
   "outputs": [],
   "source": [
    "acc = history.history['acc']\n",
    "val_acc = history.history['val_acc']\n",
    "loss = history.history['loss']\n",
    "val_loss = history.history['val_loss']\n",
    "epochs = range(1,len(acc)+1)\n",
    "\n"
   ]
  },
  {
   "cell_type": "code",
   "execution_count": 63,
   "metadata": {},
   "outputs": [
    {
     "data": {
      "text/plain": [
       "<matplotlib.legend.Legend at 0x2643666ce10>"
      ]
     },
     "execution_count": 63,
     "metadata": {},
     "output_type": "execute_result"
    },
    {
     "data": {
      "image/png": "[encoded data removed]",
      "text/plain": [
       "<Figure size 432x288 with 1 Axes>"
      ]
     },
     "metadata": {
      "needs_background": "light"
     },
     "output_type": "display_data"
    },
    {
     "data": {
      "image/png": "[encoded data removed]",
      "text/plain": [
       "<Figure size 432x288 with 1 Axes>"
      ]
     },
     "metadata": {
      "needs_background": "light"
     },
     "output_type": "display_data"
    }
   ],
   "source": [
    "plt.plot(epochs,acc,'bo',label='Training accuacy')\n",
    "plt.plot(epochs,val_acc,'b',label = 'Validation accuracy')\n",
    "plt.title('Training and Validation accuracy')\n",
    "plt.legend()\n",
    "plt.figure()\n",
    "plt.plot(epochs,loss,'bo',label='Training loss')\n",
    "plt.plot(epochs,val_loss,label='Validation loss')\n",
    "plt.title('Training and Validation loss')\n",
    "plt.legend()"
   ]
  },
  {
   "cell_type": "code",
   "execution_count": 64,
   "metadata": {},
   "outputs": [],
   "source": [
    "results=model.predict(x_test,batch_size=128)\n"
   ]
  },
  {
   "cell_type": "code",
   "execution_count": 65,
   "metadata": {},
   "outputs": [],
   "source": [
    "predicted_labels = []\n",
    "for i in range(len(results)):\n",
    "    if(results[i]<0.50):\n",
    "        predicted_labels.append(0)\n",
    "    else:\n",
    "        predicted_labels.append(1)\n",
    "    "
   ]
  },
  {
   "cell_type": "code",
   "execution_count": 66,
   "metadata": {},
   "outputs": [],
   "source": [
    "boolean_results = np.count_nonzero(predicted_labels == y_test)"
   ]
  },
  {
   "cell_type": "code",
   "execution_count": 67,
   "metadata": {},
   "outputs": [],
   "source": [
    "Testing_accuracy = boolean_results/y_test.shape[0]"
   ]
  },
  {
   "cell_type": "code",
   "execution_count": 68,
   "metadata": {},
   "outputs": [
    {
     "data": {
      "text/plain": [
       "0.92784"
      ]
     },
     "execution_count": 68,
     "metadata": {},
     "output_type": "execute_result"
    }
   ],
   "source": [
    "Testing_accuracy"
   ]
  },
  {
   "cell_type": "code",
   "execution_count": 69,
   "metadata": {},
   "outputs": [
    {
     "name": "stdout",
     "output_type": "stream",
     "text": [
      "12500/12500 [==============================] - 119s 9ms/step\n"
     ]
    },
    {
     "data": {
      "text/plain": [
       "[0.2136788285446167, 0.9278400001144409]"
      ]
     },
     "execution_count": 69,
     "metadata": {},
     "output_type": "execute_result"
    }
   ],
   "source": [
    "model.evaluate(x_test,y_test,batch_size=128)"
   ]
  },
  {
   "cell_type": "code",
   "execution_count": 70,
   "metadata": {},
   "outputs": [
    {
     "data": {
      "text/plain": [
       "['loss', 'acc']"
      ]
     },
     "execution_count": 70,
     "metadata": {},
     "output_type": "execute_result"
    }
   ],
   "source": [
    "model.metrics_names"
   ]
  },
  {
   "cell_type": "code",
   "execution_count": null,
   "metadata": {},
   "outputs": [],
   "source": []
  }
 ],
 "metadata": {
  "kernelspec": {
   "display_name": "Python 3",
   "language": "python",
   "name": "python3"
  },
  "language_info": {
   "codemirror_mode": {
    "name": "ipython",
    "version": 3
   },
   "file_extension": ".py",
   "mimetype": "text/x-python",
   "name": "python",
   "nbconvert_exporter": "python",
   "pygments_lexer": "ipython3",
   "version": "3.7.3"
  }
 },
 "nbformat": 4,
 "nbformat_minor": 2
}
